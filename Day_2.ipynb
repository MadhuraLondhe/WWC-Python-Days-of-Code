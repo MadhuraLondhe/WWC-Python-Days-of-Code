{
 "cells": [
  {
   "cell_type": "markdown",
   "id": "bec4d2e1",
   "metadata": {},
   "source": [
    "# Women Who Code Python Days of Code"
   ]
  },
  {
   "cell_type": "markdown",
   "id": "7c812701",
   "metadata": {},
   "source": [
    "### Day 2\n",
    "Create a program to calculate the area of a circle based on its radius."
   ]
  },
  {
   "cell_type": "markdown",
   "id": "40e9c862",
   "metadata": {},
   "source": [
    "The formula for area of a circle is: A = πr^2\n",
    "\n",
    "where A= Area, π= the constant value pi and r= radius.\n",
    "\n",
    "We can use 3.14 as π value. However, we will import the 'math' library for precision."
   ]
  },
  {
   "cell_type": "code",
   "execution_count": 24,
   "id": "cefc76fc",
   "metadata": {
    "scrolled": true
   },
   "outputs": [
    {
     "name": "stdout",
     "output_type": "stream",
     "text": [
      "Enter radius in cm:2\n",
      "The area of the circle is 12.57 cm^2\n"
     ]
    }
   ],
   "source": [
    "import math\n",
    "\n",
    "r= float(input('Enter radius in cm:'))   # User can enter the value of radius here\n",
    "Area = math.pi * r**2                    # The formula for area\n",
    "print(f'The area of the circle is {round(Area,2)} cm^2')"
   ]
  }
 ],
 "metadata": {
  "kernelspec": {
   "display_name": "Python 3",
   "language": "python",
   "name": "python3"
  },
  "language_info": {
   "codemirror_mode": {
    "name": "ipython",
    "version": 3
   },
   "file_extension": ".py",
   "mimetype": "text/x-python",
   "name": "python",
   "nbconvert_exporter": "python",
   "pygments_lexer": "ipython3",
   "version": "3.8.8"
  }
 },
 "nbformat": 4,
 "nbformat_minor": 5
}
