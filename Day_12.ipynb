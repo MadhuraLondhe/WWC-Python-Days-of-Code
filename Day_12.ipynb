{
 "cells": [
  {
   "cell_type": "markdown",
   "id": "7aa509b5",
   "metadata": {},
   "source": [
    "# Women Who Code Python Days of Code"
   ]
  },
  {
   "cell_type": "markdown",
   "id": "61c9b219",
   "metadata": {},
   "source": [
    "### Day 12\n",
    "\n",
    "Write a program to reverse a given string."
   ]
  },
  {
   "cell_type": "markdown",
   "id": "e49f9f10",
   "metadata": {},
   "source": [
    "We are using slicing method. Colons are used to slice the string parameters.\n",
    "starting_index : ending_index : step_size\n",
    "We want the first index upto the last index. -1 will be the step size to reverse the parameters."
   ]
  },
  {
   "cell_type": "code",
   "execution_count": 2,
   "id": "3db7079f",
   "metadata": {},
   "outputs": [
    {
     "name": "stdout",
     "output_type": "stream",
     "text": [
      "ehdnoL aruhdaM\n"
     ]
    }
   ],
   "source": [
    "given_string = 'Madhura Londhe'\n",
    "\n",
    "# reverse_string = given_string\n",
    "reverse_string = given_string[::-1]\n",
    "print(reverse_string)"
   ]
  }
 ],
 "metadata": {
  "kernelspec": {
   "display_name": "Python 3",
   "language": "python",
   "name": "python3"
  },
  "language_info": {
   "codemirror_mode": {
    "name": "ipython",
    "version": 3
   },
   "file_extension": ".py",
   "mimetype": "text/x-python",
   "name": "python",
   "nbconvert_exporter": "python",
   "pygments_lexer": "ipython3",
   "version": "3.8.8"
  }
 },
 "nbformat": 4,
 "nbformat_minor": 5
}
