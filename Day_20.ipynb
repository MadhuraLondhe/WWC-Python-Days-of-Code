{
 "cells": [
  {
   "cell_type": "markdown",
   "id": "466fd6b6",
   "metadata": {},
   "source": [
    "# Women Who Code Python Days of Code"
   ]
  },
  {
   "cell_type": "markdown",
   "id": "17a34fd6",
   "metadata": {},
   "source": [
    "### Day 20\n",
    "\n",
    "Write a function that takes a list of numbers and returns a new list containing only the even numbers."
   ]
  },
  {
   "cell_type": "code",
   "execution_count": 8,
   "id": "d6bbaea8",
   "metadata": {
    "scrolled": false
   },
   "outputs": [
    {
     "name": "stdout",
     "output_type": "stream",
     "text": [
      "[10, 6, 8, 1024, -48]\n"
     ]
    }
   ],
   "source": [
    "# We are looping through each item in the given list. We started with creating an empty list named 'even_list'.\n",
    "# An item/number is even if it's divisible by 2. If this condition is satisfied, the number will be added to the even_list.\n",
    "\n",
    "def even_list(my_list):\n",
    "    even_list = []\n",
    "    for i in my_list:\n",
    "        if i % 2 == 0:\n",
    "            even_list.append(i)\n",
    "    return even_list\n",
    "\n",
    "given_list = [10, 6, 3, 9, 8, 115, 1024, -33, -48]\n",
    "even_only_list = even_list(given_list)\n",
    "print(even_only_list)"
   ]
  }
 ],
 "metadata": {
  "kernelspec": {
   "display_name": "Python 3",
   "language": "python",
   "name": "python3"
  },
  "language_info": {
   "codemirror_mode": {
    "name": "ipython",
    "version": 3
   },
   "file_extension": ".py",
   "mimetype": "text/x-python",
   "name": "python",
   "nbconvert_exporter": "python",
   "pygments_lexer": "ipython3",
   "version": "3.8.8"
  }
 },
 "nbformat": 4,
 "nbformat_minor": 5
}
