{
 "cells": [
  {
   "cell_type": "markdown",
   "id": "a396b68b",
   "metadata": {},
   "source": [
    "# Women Who Code Python Days of Code"
   ]
  },
  {
   "cell_type": "markdown",
   "id": "e3ef90e6",
   "metadata": {},
   "source": [
    "### Day 7\n",
    "\n",
    "Write a program to check if a number is positive, negative, or zero."
   ]
  },
  {
   "cell_type": "code",
   "execution_count": 12,
   "id": "043cf897",
   "metadata": {},
   "outputs": [
    {
     "name": "stdout",
     "output_type": "stream",
     "text": [
      "-4.8\n",
      "The number is negative\n"
     ]
    }
   ],
   "source": [
    "number = float(input())                   # A prompt to provide a number. Converting to float so that it will take only a number\n",
    "if number > 0:\n",
    "    print('The number is positive')       # Using If/Else statement to define the conditional outomes\n",
    "elif number < 0:\n",
    "    print('The number is negative')\n",
    "elif number == 0:\n",
    "    print('The number is zero')\n",
    "else:\n",
    "    pass"
   ]
  }
 ],
 "metadata": {
  "kernelspec": {
   "display_name": "Python 3",
   "language": "python",
   "name": "python3"
  },
  "language_info": {
   "codemirror_mode": {
    "name": "ipython",
    "version": 3
   },
   "file_extension": ".py",
   "mimetype": "text/x-python",
   "name": "python",
   "nbconvert_exporter": "python",
   "pygments_lexer": "ipython3",
   "version": "3.8.8"
  }
 },
 "nbformat": 4,
 "nbformat_minor": 5
}
