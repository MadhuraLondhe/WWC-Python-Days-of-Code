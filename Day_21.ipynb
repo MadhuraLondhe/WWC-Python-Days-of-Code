{
 "cells": [
  {
   "cell_type": "markdown",
   "id": "7bd067ac",
   "metadata": {},
   "source": [
    "# Women Who Code Python Days of Code"
   ]
  },
  {
   "cell_type": "markdown",
   "id": "82218769",
   "metadata": {},
   "source": [
    "### Day 21\n",
    "\n",
    "Create a program to remove a specific element from a set."
   ]
  },
  {
   "cell_type": "code",
   "execution_count": 1,
   "id": "41d931be",
   "metadata": {},
   "outputs": [
    {
     "name": "stdout",
     "output_type": "stream",
     "text": [
      "{'Ruby', 'Bash', 'Python', 'Java'}\n"
     ]
    }
   ],
   "source": [
    "# One way is to use remove method\n",
    "my_set = {'Java', 'Python', 'C++', 'Ruby', 'Bash' }\n",
    "my_set.remove('C++')\n",
    "print(my_set)"
   ]
  },
  {
   "cell_type": "code",
   "execution_count": 4,
   "id": "f681c743",
   "metadata": {},
   "outputs": [
    {
     "name": "stdout",
     "output_type": "stream",
     "text": [
      "{'set', 'list', 'tuple'}\n"
     ]
    }
   ],
   "source": [
    "# Another way is to use discard method\n",
    "new_set = {'list', 'tuple', 'dictionary', 'set'}\n",
    "new_set.discard('dictionary')\n",
    "print(new_set)"
   ]
  },
  {
   "cell_type": "markdown",
   "id": "ad83727e",
   "metadata": {},
   "source": [
    "The only difference between the two methods is the error message.\n",
    "The remove method will show an error if the imentioned item doesn't exist. On the other hand, the discard method will not show any error if the specified item doesn't exist."
   ]
  }
 ],
 "metadata": {
  "kernelspec": {
   "display_name": "Python 3",
   "language": "python",
   "name": "python3"
  },
  "language_info": {
   "codemirror_mode": {
    "name": "ipython",
    "version": 3
   },
   "file_extension": ".py",
   "mimetype": "text/x-python",
   "name": "python",
   "nbconvert_exporter": "python",
   "pygments_lexer": "ipython3",
   "version": "3.8.8"
  }
 },
 "nbformat": 4,
 "nbformat_minor": 5
}
