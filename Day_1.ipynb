{
 "cells": [
  {
   "cell_type": "markdown",
   "id": "f59b5cac",
   "metadata": {},
   "source": [
    " # Women Who Code Python Days of Code"
   ]
  },
  {
   "cell_type": "markdown",
   "id": "23ade372",
   "metadata": {},
   "source": [
    "### Day 1\n",
    "Create a program that swaps the values of two variables."
   ]
  },
  {
   "cell_type": "code",
   "execution_count": 11,
   "id": "c1ab4831",
   "metadata": {},
   "outputs": [
    {
     "name": "stdout",
     "output_type": "stream",
     "text": [
      "Python\n",
      "3\n"
     ]
    }
   ],
   "source": [
    "# Let's assign some values. The values can be numbers or strings. Let's use bo\n",
    "val_1 = 'Python'\n",
    "val_2 = 3\n",
    "print(val_1)\n",
    "print(val_2)"
   ]
  },
  {
   "cell_type": "code",
   "execution_count": 14,
   "id": "5458abab",
   "metadata": {},
   "outputs": [],
   "source": [
    "# Now, let's create a program where the assigned values to the variables val_1 and val_2 will change.\n",
    "# We will use one more variable to assist with the swapping.\n",
    "swap_val = val_1\n",
    "val_1 = val_2\n",
    "val_2 = swap_val\n"
   ]
  },
  {
   "cell_type": "code",
   "execution_count": 13,
   "id": "28170c59",
   "metadata": {},
   "outputs": [
    {
     "name": "stdout",
     "output_type": "stream",
     "text": [
      "3\n",
      "Python\n"
     ]
    }
   ],
   "source": [
    "# Let's see the swapped variables now.\n",
    "print(val_1)\n",
    "print(val_2)"
   ]
  }
 ],
 "metadata": {
  "kernelspec": {
   "display_name": "Python 3",
   "language": "python",
   "name": "python3"
  },
  "language_info": {
   "codemirror_mode": {
    "name": "ipython",
    "version": 3
   },
   "file_extension": ".py",
   "mimetype": "text/x-python",
   "name": "python",
   "nbconvert_exporter": "python",
   "pygments_lexer": "ipython3",
   "version": "3.8.8"
  }
 },
 "nbformat": 4,
 "nbformat_minor": 5
}
