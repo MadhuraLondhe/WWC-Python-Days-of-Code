{
 "cells": [
  {
   "cell_type": "markdown",
   "id": "4bb186ef",
   "metadata": {},
   "source": [
    "# Women Who Code Python Days of Code"
   ]
  },
  {
   "cell_type": "markdown",
   "id": "613a77e1",
   "metadata": {},
   "source": [
    "### Day 13\n",
    "\n",
    "Write a program to shuffle the elements of a list randomly."
   ]
  },
  {
   "cell_type": "code",
   "execution_count": 3,
   "id": "aa2a0bdd",
   "metadata": {},
   "outputs": [
    {
     "name": "stdout",
     "output_type": "stream",
     "text": [
      "['Fruit', 'Flower', 'Trunk', 'Leaf']\n"
     ]
    }
   ],
   "source": [
    "import random\n",
    "\n",
    "my_list = [\"Flower\", \"Fruit\", \"Leaf\", \"Trunk\"]\n",
    "random.shuffle(my_list)       # Using Shuffle to reorganize the order of the elements.\n",
    "\n",
    "print(my_list)"
   ]
  }
 ],
 "metadata": {
  "kernelspec": {
   "display_name": "Python 3",
   "language": "python",
   "name": "python3"
  },
  "language_info": {
   "codemirror_mode": {
    "name": "ipython",
    "version": 3
   },
   "file_extension": ".py",
   "mimetype": "text/x-python",
   "name": "python",
   "nbconvert_exporter": "python",
   "pygments_lexer": "ipython3",
   "version": "3.8.8"
  }
 },
 "nbformat": 4,
 "nbformat_minor": 5
}
