{
 "cells": [
  {
   "cell_type": "markdown",
   "id": "d58ca321",
   "metadata": {},
   "source": [
    "# Women Who Code Python Days of Code"
   ]
  },
  {
   "cell_type": "markdown",
   "id": "77338334",
   "metadata": {},
   "source": [
    "### Day 9\n",
    "\n",
    "Write a program to check if a number is even or odd."
   ]
  },
  {
   "cell_type": "code",
   "execution_count": 18,
   "id": "dc0c4989",
   "metadata": {},
   "outputs": [
    {
     "name": "stdout",
     "output_type": "stream",
     "text": [
      "Provide a number:317\n",
      "The given number is odd\n"
     ]
    }
   ],
   "source": [
    "# We are assuming that the input is an integer\n",
    "number = int(input('Provide a number:'))   # A prompt to provide an input value\n",
    "\n",
    "if number % 2 == 0:                        # if a number is divisible by 2, the remainder will be 0. It will be an even number\n",
    "    print('The given number is even')\n",
    "else:\n",
    "    print('The given number is odd')"
   ]
  }
 ],
 "metadata": {
  "kernelspec": {
   "display_name": "Python 3",
   "language": "python",
   "name": "python3"
  },
  "language_info": {
   "codemirror_mode": {
    "name": "ipython",
    "version": 3
   },
   "file_extension": ".py",
   "mimetype": "text/x-python",
   "name": "python",
   "nbconvert_exporter": "python",
   "pygments_lexer": "ipython3",
   "version": "3.8.8"
  }
 },
 "nbformat": 4,
 "nbformat_minor": 5
}
