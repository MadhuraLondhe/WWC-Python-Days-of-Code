{
 "cells": [
  {
   "cell_type": "markdown",
   "id": "34557d57",
   "metadata": {},
   "source": [
    "# Women Who Code Python Days of Code"
   ]
  },
  {
   "cell_type": "markdown",
   "id": "73532319",
   "metadata": {},
   "source": [
    "### Day 14\n",
    "\n",
    "Write a program to print the first n numbers of a Fibonacci sequence"
   ]
  },
  {
   "cell_type": "markdown",
   "id": "73574f6a",
   "metadata": {},
   "source": [
    "What is a Fibonacci sequence?\n",
    "It's a sequence in which the sum of each number is the sum of the two preceding ones (ref: Wikipedia). It starts with 0 and 1. \n",
    "The formula to find out Fibonacci numbers is represented as:\n",
    "\n",
    "F(n) = F(n-1) + F(n-2)\n",
    "where F(0) = 0 and F(1) = 1\n",
    "\n",
    "Hence, the sequence becomes: \n",
    "0, 1, 1, 2, 3, 5, 8, 13, 21, 34, ...\n",
    "\n",
    "\n",
    "To find out the sequence numbers, we will use the recursion method. The recursion method is used to call the function itself to loop through the data.\n",
    "\n",
    "For example: If we want to find out the Fibonacci sequence of 3:\n",
    "F(3) = F(2) + F(1)\n",
    "     = F(1) + F(0) + 1 = 1+0+1 = 2\n",
    "     \n",
    "The sequence becomes 0,1,1,2\n"
   ]
  },
  {
   "cell_type": "code",
   "execution_count": 72,
   "id": "d86551c0",
   "metadata": {},
   "outputs": [
    {
     "name": "stdout",
     "output_type": "stream",
     "text": [
      "0\n",
      "1\n",
      "1\n",
      "2\n",
      "3\n",
      "5\n",
      "8\n",
      "13\n"
     ]
    }
   ],
   "source": [
    "def fibonacci_counter(n):\n",
    "\n",
    "    if n == 0 or n==1:\n",
    "        return n\n",
    "    else:\n",
    "        return fibonacci_counter(n-1) + fibonacci_counter(n-2)\n",
    "\n",
    "my_number = 8\n",
    "for i in range(0, my_number):\n",
    "    print(fibonacci_counter(i))"
   ]
  }
 ],
 "metadata": {
  "kernelspec": {
   "display_name": "Python 3",
   "language": "python",
   "name": "python3"
  },
  "language_info": {
   "codemirror_mode": {
    "name": "ipython",
    "version": 3
   },
   "file_extension": ".py",
   "mimetype": "text/x-python",
   "name": "python",
   "nbconvert_exporter": "python",
   "pygments_lexer": "ipython3",
   "version": "3.8.8"
  }
 },
 "nbformat": 4,
 "nbformat_minor": 5
}
