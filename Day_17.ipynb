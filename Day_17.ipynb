{
 "cells": [
  {
   "cell_type": "markdown",
   "id": "e512b409",
   "metadata": {},
   "source": [
    "# Women Who Code Python Days of Code"
   ]
  },
  {
   "cell_type": "markdown",
   "id": "f3833903",
   "metadata": {},
   "source": [
    "### Day 17\n",
    "\n",
    "Create a program that capitalizes the first letter of each word in a sentence"
   ]
  },
  {
   "cell_type": "code",
   "execution_count": 8,
   "id": "53ddc612",
   "metadata": {},
   "outputs": [
    {
     "name": "stdout",
     "output_type": "stream",
     "text": [
      "This Is Women Who Code'S Python Days Of Code Challenge\n"
     ]
    }
   ],
   "source": [
    "# Method 1\n",
    "x = \"this is women who code's python days of code challenge\"\n",
    "y = x.title()\n",
    "print(y)"
   ]
  },
  {
   "cell_type": "code",
   "execution_count": 12,
   "id": "13dab187",
   "metadata": {},
   "outputs": [
    {
     "name": "stdout",
     "output_type": "stream",
     "text": [
      "I'm A Data Analyst And Enjoy Coding In Python.\n"
     ]
    }
   ],
   "source": [
    "# Method 2\n",
    "# The above code capitalized apostrophe letter as well.\n",
    "import string\n",
    "a = \"i'm a data analyst and enjoy coding in python.\"\n",
    "b = string.capwords(a)\n",
    "print(b)"
   ]
  }
 ],
 "metadata": {
  "kernelspec": {
   "display_name": "Python 3",
   "language": "python",
   "name": "python3"
  },
  "language_info": {
   "codemirror_mode": {
    "name": "ipython",
    "version": 3
   },
   "file_extension": ".py",
   "mimetype": "text/x-python",
   "name": "python",
   "nbconvert_exporter": "python",
   "pygments_lexer": "ipython3",
   "version": "3.8.8"
  }
 },
 "nbformat": 4,
 "nbformat_minor": 5
}
