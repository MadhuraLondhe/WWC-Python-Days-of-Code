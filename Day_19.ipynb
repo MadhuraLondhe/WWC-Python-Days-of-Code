{
 "cells": [
  {
   "cell_type": "markdown",
   "id": "013ca109",
   "metadata": {},
   "source": [
    "# Women Who Code Python Days of Code"
   ]
  },
  {
   "cell_type": "markdown",
   "id": "8ceefc1e",
   "metadata": {},
   "source": [
    "### Day 19\n",
    "\n",
    "Write a function to calculate the factorial of a number."
   ]
  },
  {
   "cell_type": "markdown",
   "id": "36d0cf52",
   "metadata": {},
   "source": [
    "Factorial of a number is a product of all the numbers below that number.\n",
    "The factorial of 4 is 4! = 4*3*2*1= 24.\n",
    "\n",
    "Factorial calculation is the classic example of using recursion. We will iterate through all the numbers (using the range function) from 0 to the gievn number by calling the function itself.\n",
    "\n",
    "The factorial of one is always one. We will use this as the base condition.\n",
    "To find out factorial of five (n), for example, we will multiply the number with one number below it (n-1). So, here it will be 5*4. Now four is the new 'n' . \n",
    "The process of finding factorial will go on until we get n=1 (the base condition). \n",
    "\n",
    "So, ultimately, the result will be:\n",
    "\n",
    "5! = 5* (5-1)! = 5* 4* (4-1)! = 5* 4* 3 (3-1)! \n",
    "   = 5* 4* 3* 2* (2-1)!\n",
    "   = 5* 4* 3* 2* 1 \n",
    "   = 120"
   ]
  },
  {
   "cell_type": "code",
   "execution_count": 4,
   "id": "0633f961",
   "metadata": {},
   "outputs": [
    {
     "name": "stdout",
     "output_type": "stream",
     "text": [
      "The factorial of 8 is 40320\n"
     ]
    }
   ],
   "source": [
    "def factorial_counter(n):\n",
    "    for i in range(0, n):\n",
    "        if n== 1:\n",
    "            return 1\n",
    "        else:\n",
    "            return n*factorial_counter(n-1)\n",
    "\n",
    "n = 8\n",
    "print(f'The factorial of {n} is {factorial_counter(n)}')"
   ]
  }
 ],
 "metadata": {
  "kernelspec": {
   "display_name": "Python 3",
   "language": "python",
   "name": "python3"
  },
  "language_info": {
   "codemirror_mode": {
    "name": "ipython",
    "version": 3
   },
   "file_extension": ".py",
   "mimetype": "text/x-python",
   "name": "python",
   "nbconvert_exporter": "python",
   "pygments_lexer": "ipython3",
   "version": "3.8.8"
  }
 },
 "nbformat": 4,
 "nbformat_minor": 5
}
