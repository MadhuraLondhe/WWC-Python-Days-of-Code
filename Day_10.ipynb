{
 "cells": [
  {
   "cell_type": "markdown",
   "id": "569ea678",
   "metadata": {},
   "source": [
    "# Women Who Code Python Days of Code"
   ]
  },
  {
   "cell_type": "markdown",
   "id": "7ff2784d",
   "metadata": {},
   "source": [
    "### Day 10\n",
    "\n",
    "Write a program to remove duplicates from a list."
   ]
  },
  {
   "cell_type": "markdown",
   "id": "a4e1a670",
   "metadata": {},
   "source": [
    "The first option is to convert the given list in a dictionary. A dictionary caanot contain dupicate keys. Hence, it will take only unique values. Since the final output should be a list, the dictionary needs to be converted to a list again."
   ]
  },
  {
   "cell_type": "code",
   "execution_count": 1,
   "id": "9bfac37e",
   "metadata": {},
   "outputs": [
    {
     "name": "stdout",
     "output_type": "stream",
     "text": [
      "['Python', 'Code', 25, 'Language']\n"
     ]
    }
   ],
   "source": [
    "def final_list(i):\n",
    "    return list(dict.fromkeys(i))\n",
    "\n",
    "\n",
    "my_list = final_list([\"Python\", 'Code', 25, 'Language', \"Python\"])\n",
    "\n",
    "print(my_list)"
   ]
  },
  {
   "cell_type": "markdown",
   "id": "e34eca06",
   "metadata": {},
   "source": [
    "Another solution is to use 'set' function. Set function creates unordered, unique set objects. The duplicate items will be eliminated in the new list once we use the 'set' function."
   ]
  },
  {
   "cell_type": "code",
   "execution_count": 2,
   "id": "ade7fb2f",
   "metadata": {},
   "outputs": [
    {
     "name": "stdout",
     "output_type": "stream",
     "text": [
      "['Z', 'A', 'T', 'B']\n"
     ]
    }
   ],
   "source": [
    "# Another option is using 'set' function\n",
    "mylist = ['A', 'B', 'T', 'B', 'Z']\n",
    "\n",
    "new_list = list(set(mylist))\n",
    "\n",
    "print(new_list)"
   ]
  }
 ],
 "metadata": {
  "kernelspec": {
   "display_name": "Python 3",
   "language": "python",
   "name": "python3"
  },
  "language_info": {
   "codemirror_mode": {
    "name": "ipython",
    "version": 3
   },
   "file_extension": ".py",
   "mimetype": "text/x-python",
   "name": "python",
   "nbconvert_exporter": "python",
   "pygments_lexer": "ipython3",
   "version": "3.8.8"
  }
 },
 "nbformat": 4,
 "nbformat_minor": 5
}
