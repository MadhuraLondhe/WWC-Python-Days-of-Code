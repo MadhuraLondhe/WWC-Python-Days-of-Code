{
 "cells": [
  {
   "cell_type": "markdown",
   "id": "7841997b",
   "metadata": {},
   "source": [
    "### Women Who Code Python Days of Code"
   ]
  },
  {
   "cell_type": "markdown",
   "id": "5cb62f30",
   "metadata": {},
   "source": [
    "### Day 5\n",
    "\n",
    "Write a program to find the maximum and minimum values in a list."
   ]
  },
  {
   "cell_type": "code",
   "execution_count": 6,
   "id": "e4ca0451",
   "metadata": {},
   "outputs": [
    {
     "name": "stdout",
     "output_type": "stream",
     "text": [
      "[-1, 1, 3.5, 10, 20]\n"
     ]
    }
   ],
   "source": [
    "# One way is to sort a list so that the first and the last values will be the lowest and highest, respectively.\n",
    "my_list = [1, 20, -1, 3.5, 10]\n",
    "my_list.sort()\n",
    "print(my_list)"
   ]
  },
  {
   "cell_type": "code",
   "execution_count": 10,
   "id": "60ccac3e",
   "metadata": {},
   "outputs": [
    {
     "name": "stdout",
     "output_type": "stream",
     "text": [
      "The minimum value in the list is -1\n",
      "The maximum value in the list is 20\n"
     ]
    }
   ],
   "source": [
    "print('The minimum value in the list is', my_list[0])    # Indexing starts with 0 in a list\n",
    "print('The maximum value in the list is', my_list[-1])   # Reverse indexing to get the largest value"
   ]
  },
  {
   "cell_type": "code",
   "execution_count": 11,
   "id": "8de2ae35",
   "metadata": {},
   "outputs": [
    {
     "name": "stdout",
     "output_type": "stream",
     "text": [
      "-1\n",
      "20\n"
     ]
    }
   ],
   "source": [
    "# Another way is to use min() and max() methods\n",
    "my_list = [1, 20, -1, 3.5, 10]\n",
    "print(min(my_list))\n",
    "print(max(my_list))"
   ]
  },
  {
   "cell_type": "code",
   "execution_count": 12,
   "id": "4c60dabd",
   "metadata": {},
   "outputs": [
    {
     "name": "stdout",
     "output_type": "stream",
     "text": [
      "Apple\n",
      "Pear\n"
     ]
    }
   ],
   "source": [
    "# When there is a list of strings, we can get the minimum and maximum values alphabetically.\n",
    "strings_list = ['Apple', 'Orange', 'Banana', 'Pear', 'Mango']\n",
    "print(min(strings_list))\n",
    "print(max(strings_list))"
   ]
  }
 ],
 "metadata": {
  "kernelspec": {
   "display_name": "Python 3",
   "language": "python",
   "name": "python3"
  },
  "language_info": {
   "codemirror_mode": {
    "name": "ipython",
    "version": 3
   },
   "file_extension": ".py",
   "mimetype": "text/x-python",
   "name": "python",
   "nbconvert_exporter": "python",
   "pygments_lexer": "ipython3",
   "version": "3.8.8"
  }
 },
 "nbformat": 4,
 "nbformat_minor": 5
}
