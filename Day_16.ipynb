{
 "cells": [
  {
   "cell_type": "markdown",
   "id": "03b5b2bc",
   "metadata": {},
   "source": [
    "# Women Who Code Python Days of Code"
   ]
  },
  {
   "cell_type": "markdown",
   "id": "cdc8efae",
   "metadata": {},
   "source": [
    "### Day 16\n",
    "\n",
    "Write a function that counts the frequency of each word in a sentence."
   ]
  },
  {
   "cell_type": "code",
   "execution_count": 75,
   "id": "abd9afce",
   "metadata": {
    "scrolled": false
   },
   "outputs": [
    {
     "name": "stdout",
     "output_type": "stream",
     "text": [
      "The Frequency of the \"python\" is 2\n",
      "The Frequency of the \"is\" is 1\n",
      "The Frequency of the \"a\" is 3\n",
      "The Frequency of the \"wonderful\" is 1\n",
      "The Frequency of the \"coding\" is 2\n",
      "The Frequency of the \"language\" is 1\n",
      "The Frequency of the \"i\" is 5\n",
      "The Frequency of the \"enjoy\" is 1\n",
      "The Frequency of the \"in\" is 3\n"
     ]
    }
   ],
   "source": [
    "# Importing Regular Expressions to remove punctuations in the sentences.\n",
    "import re                                 \n",
    "\n",
    "def frequency_counter(sentence):\n",
    "    \n",
    "    words_count = []                                          # Initiating an empty list\n",
    "    modified_sentence = re.sub(r'[^\\w\\s]', '', sentence)      # Removing all punctuations using Regular Exxpressions\n",
    "    my_words_list = modified_sentence.split()\n",
    "    \n",
    "    for i in my_words_list:\n",
    "        if words_count.count(i) == 0:                         # Iterating through the list to add different words\n",
    "            words_count.append(i)\n",
    "            \n",
    "    for word in words_count:\n",
    "        if sentence.count(word) == 1:\n",
    "            print(f'The Frequency of the \"{word}\" is {sentence.count(word)}')   # Counting frequency of the appended words\n",
    "        else:\n",
    "            print(f'The Frequency of the \"{word}\" is {sentence.count(word)}')\n",
    "\n",
    "given_string = 'Python is a wonderful coding language. I enjoy coding in python.'\n",
    "sentence = given_string.lower()\n",
    "frequency_counter(sentence)\n"
   ]
  }
 ],
 "metadata": {
  "kernelspec": {
   "display_name": "Python 3",
   "language": "python",
   "name": "python3"
  },
  "language_info": {
   "codemirror_mode": {
    "name": "ipython",
    "version": 3
   },
   "file_extension": ".py",
   "mimetype": "text/x-python",
   "name": "python",
   "nbconvert_exporter": "python",
   "pygments_lexer": "ipython3",
   "version": "3.8.8"
  }
 },
 "nbformat": 4,
 "nbformat_minor": 5
}
