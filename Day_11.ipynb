{
 "cells": [
  {
   "cell_type": "markdown",
   "id": "54fc8d03",
   "metadata": {},
   "source": [
    "# Women Who Code Python Days of Code"
   ]
  },
  {
   "cell_type": "markdown",
   "id": "2403f8dc",
   "metadata": {},
   "source": [
    "### Day 11\n",
    "\n",
    "Write a program to print the multiplication table of a given number."
   ]
  },
  {
   "cell_type": "markdown",
   "id": "1c96e84d",
   "metadata": {},
   "source": [
    "We are assunming that the given numbre is an integer.\n",
    "\n",
    "In a multiplication table of a number, the number is multiplied by 1 to 10 numbers sequentially. \n",
    "The 'range' is used to iterate through a sequence of numbers in the 'For' loops. Since, the end position in the 'range' is not included in the enumeration, the range provided is 1 to 11."
   ]
  },
  {
   "cell_type": "code",
   "execution_count": 39,
   "id": "559db736",
   "metadata": {},
   "outputs": [
    {
     "name": "stdout",
     "output_type": "stream",
     "text": [
      "Enter your integer number:5\n",
      "5\n",
      "10\n",
      "15\n",
      "20\n",
      "25\n",
      "30\n",
      "35\n",
      "40\n",
      "45\n",
      "50\n"
     ]
    }
   ],
   "source": [
    "given_number = int(input('Enter your integer number:'))  #A prompt to input a number\n",
    "for i in range(1,11):\n",
    "    print(i*given_number)"
   ]
  }
 ],
 "metadata": {
  "kernelspec": {
   "display_name": "Python 3",
   "language": "python",
   "name": "python3"
  },
  "language_info": {
   "codemirror_mode": {
    "name": "ipython",
    "version": 3
   },
   "file_extension": ".py",
   "mimetype": "text/x-python",
   "name": "python",
   "nbconvert_exporter": "python",
   "pygments_lexer": "ipython3",
   "version": "3.8.8"
  }
 },
 "nbformat": 4,
 "nbformat_minor": 5
}
