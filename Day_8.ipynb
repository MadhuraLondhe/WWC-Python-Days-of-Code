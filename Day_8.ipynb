{
 "cells": [
  {
   "cell_type": "markdown",
   "id": "5a57ead2",
   "metadata": {},
   "source": [
    "# Women Who Code Python Days of Code"
   ]
  },
  {
   "cell_type": "markdown",
   "id": "51985dea",
   "metadata": {},
   "source": [
    "### Day 8\n",
    "\n",
    "Write a function that accepts a string and calculates the number of uppercase and lowercase letters in it."
   ]
  },
  {
   "cell_type": "code",
   "execution_count": 21,
   "id": "d42df808",
   "metadata": {
    "scrolled": true
   },
   "outputs": [
    {
     "name": "stdout",
     "output_type": "stream",
     "text": [
      "Provide a string:Python Is A Programming Language\n",
      "The total lowercase letters in the given string are 23\n",
      "The total uppercase letters in the given string are 5\n"
     ]
    }
   ],
   "source": [
    "word = input ('Provide a string:')                           # A prompt to provide a string to counter letters\n",
    "\n",
    "lower_count, upper_count = 0,0                               # Initiating with 0 count\n",
    "for w in word:                                               # Using For loops to iterate through the given string\n",
    "    if w.islower():                                          # Using If/Else statement within For loops for conditional outcomes\n",
    "        lower_count +=1                                      # If there is a lowercase letter, append the counter\n",
    "    elif w.isupper():\n",
    "        upper_count +=1                                      # If there is a uppercase leetter, append the counter\n",
    "print('The total lowercase letters in the given string are', lower_count)\n",
    "print('The total uppercase letters in the given string are', upper_count)"
   ]
  }
 ],
 "metadata": {
  "kernelspec": {
   "display_name": "Python 3",
   "language": "python",
   "name": "python3"
  },
  "language_info": {
   "codemirror_mode": {
    "name": "ipython",
    "version": 3
   },
   "file_extension": ".py",
   "mimetype": "text/x-python",
   "name": "python",
   "nbconvert_exporter": "python",
   "pygments_lexer": "ipython3",
   "version": "3.8.8"
  }
 },
 "nbformat": 4,
 "nbformat_minor": 5
}
