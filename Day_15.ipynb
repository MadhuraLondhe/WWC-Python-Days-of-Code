{
 "cells": [
  {
   "cell_type": "markdown",
   "id": "c6bce1a5",
   "metadata": {},
   "source": [
    "# Women Who Code Python Days of Code"
   ]
  },
  {
   "cell_type": "markdown",
   "id": "f0745ebc",
   "metadata": {},
   "source": [
    "### Day 15\n",
    "\n",
    "Create a program that checks if a year is a leap year."
   ]
  },
  {
   "cell_type": "code",
   "execution_count": 26,
   "id": "02abe856",
   "metadata": {},
   "outputs": [
    {
     "name": "stdout",
     "output_type": "stream",
     "text": [
      "Enter your year:2024\n",
      "2024 is a leap year\n"
     ]
    }
   ],
   "source": [
    "#The most common way to find out a leap year is to check if it is divisible by four. \n",
    "\n",
    "given_number = int(input('Enter your year:'))\n",
    "\n",
    "if given_number % 4 ==0:\n",
    "    print(f'{given_number} is a leap year')\n",
    "else:\n",
    "    print('The given year is not a leap year')"
   ]
  },
  {
   "cell_type": "code",
   "execution_count": 27,
   "id": "2700696b",
   "metadata": {},
   "outputs": [
    {
     "name": "stdout",
     "output_type": "stream",
     "text": [
      "Enter your year:1900\n",
      "The given year is not a leap year\n"
     ]
    }
   ],
   "source": [
    "''' \n",
    "The above method is not the correct method.\n",
    "It worked well for the year 2024. However, even though 1900 is divisble by 4, it is not a leap year.\n",
    "If a year is divisbile by four and not divisible by 100, then it's considered a leap year.\n",
    "So, the modified code will be as follows.\n",
    "'''\n",
    "\n",
    "my_number = int(input('Enter your year:'))\n",
    "\n",
    "if my_number % 4 ==0 and my_number % 100 !=0:\n",
    "    print(f'{my_number} is a leap year')\n",
    "else:\n",
    "    print('The given year is not a leap year')"
   ]
  },
  {
   "cell_type": "code",
   "execution_count": 28,
   "id": "232bc763",
   "metadata": {},
   "outputs": [
    {
     "name": "stdout",
     "output_type": "stream",
     "text": [
      "Enter your year:2000\n",
      "The given year is not a leap year\n"
     ]
    }
   ],
   "source": [
    "# It worked well for 1900 this time. Let's try for the year 2000 now.\n",
    "\n",
    "my_number = int(input('Enter your year:'))\n",
    "\n",
    "if my_number % 4 ==0 and my_number % 100 !=0:\n",
    "    print(f'{my_number} is a leap year')\n",
    "else:\n",
    "    print('The given year is not a leap year')"
   ]
  },
  {
   "cell_type": "code",
   "execution_count": 29,
   "id": "3d3cc292",
   "metadata": {},
   "outputs": [
    {
     "name": "stdout",
     "output_type": "stream",
     "text": [
      "Enter your year:2000\n",
      "2000 is a leap year\n"
     ]
    }
   ],
   "source": [
    "# The above code provides incorrect output. 2000 is a leap year. This is because it is missing another condition.\n",
    "# If a year is divisible by 400, it is considered a leap year.\n",
    "# The final code with combining the conditions is:\n",
    "\n",
    "given_year = int(input('Enter your year:'))\n",
    "\n",
    "if given_year % 4 == 0 and given_year % 100 != 0:\n",
    "    print(f'{my_number} is a leap year')\n",
    "elif given_year % 400 == 0:\n",
    "    print(f'{given_year} is a leap year')\n",
    "else:\n",
    "    print('The given year is not a leap year')"
   ]
  }
 ],
 "metadata": {
  "kernelspec": {
   "display_name": "Python 3",
   "language": "python",
   "name": "python3"
  },
  "language_info": {
   "codemirror_mode": {
    "name": "ipython",
    "version": 3
   },
   "file_extension": ".py",
   "mimetype": "text/x-python",
   "name": "python",
   "nbconvert_exporter": "python",
   "pygments_lexer": "ipython3",
   "version": "3.8.8"
  }
 },
 "nbformat": 4,
 "nbformat_minor": 5
}
