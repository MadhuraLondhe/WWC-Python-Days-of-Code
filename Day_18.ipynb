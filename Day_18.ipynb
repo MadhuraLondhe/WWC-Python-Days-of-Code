{
 "cells": [
  {
   "cell_type": "markdown",
   "id": "a74a36b0",
   "metadata": {},
   "source": [
    "# Women Who Code Python Days of Code"
   ]
  },
  {
   "cell_type": "markdown",
   "id": "d5dedbc3",
   "metadata": {},
   "source": [
    "### Day 18\n",
    "\n",
    "Create a program to find the largest among three numbers."
   ]
  },
  {
   "cell_type": "code",
   "execution_count": 1,
   "id": "db4b6d7b",
   "metadata": {},
   "outputs": [
    {
     "name": "stdout",
     "output_type": "stream",
     "text": [
      "2.5\n",
      "1/2\n",
      "-5\n",
      "The largest number among the given three numbers is 2.5\n"
     ]
    }
   ],
   "source": [
    "# The code started with prompts to provide the numbers followed by using max() method to find the largest number.\n",
    "first_number = input()\n",
    "second_number = input()\n",
    "third_number = input()\n",
    "largest_number = max(first_number, second_number, third_number)\n",
    "print(f'The largest number among the given three numbers is {largest_number}')"
   ]
  }
 ],
 "metadata": {
  "kernelspec": {
   "display_name": "Python 3",
   "language": "python",
   "name": "python3"
  },
  "language_info": {
   "codemirror_mode": {
    "name": "ipython",
    "version": 3
   },
   "file_extension": ".py",
   "mimetype": "text/x-python",
   "name": "python",
   "nbconvert_exporter": "python",
   "pygments_lexer": "ipython3",
   "version": "3.8.8"
  }
 },
 "nbformat": 4,
 "nbformat_minor": 5
}
