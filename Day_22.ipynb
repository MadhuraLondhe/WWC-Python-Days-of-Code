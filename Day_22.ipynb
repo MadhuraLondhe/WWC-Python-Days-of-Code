{
 "cells": [
  {
   "cell_type": "markdown",
   "id": "616cf976",
   "metadata": {},
   "source": [
    "# Women Who Code Python Days of Code"
   ]
  },
  {
   "cell_type": "markdown",
   "id": "cd7a7c28",
   "metadata": {},
   "source": [
    "### Day 22\n",
    "\n",
    "Create a program to find the second-largest element in a list."
   ]
  },
  {
   "cell_type": "code",
   "execution_count": 5,
   "id": "6d74c820",
   "metadata": {},
   "outputs": [
    {
     "name": "stdout",
     "output_type": "stream",
     "text": [
      "[1260, 100, 50, 25, 13, 2]\n"
     ]
    }
   ],
   "source": [
    "# A simple way is to sort the list in a reverse order and take the value at the second index.\n",
    "my_list = [25, 50, 13, 2, 100, 1260]\n",
    "my_list.sort(reverse= True)\n",
    "print(my_list)"
   ]
  },
  {
   "cell_type": "code",
   "execution_count": 6,
   "id": "a20ba8a3",
   "metadata": {},
   "outputs": [
    {
     "data": {
      "text/plain": [
       "100"
      ]
     },
     "execution_count": 6,
     "metadata": {},
     "output_type": "execute_result"
    }
   ],
   "source": [
    "my_list[1]"
   ]
  },
  {
   "cell_type": "markdown",
   "id": "c0ea61c4",
   "metadata": {},
   "source": [
    "A function can be defined to create a program. Initiate with an empty list. \n",
    "Loop through each items in the original given list. If the item is lower than the max valued item, append to the empty list. The maximum value of the newly formed list will be the second largest value of the original one."
   ]
  },
  {
   "cell_type": "code",
   "execution_count": 11,
   "id": "e69196ba",
   "metadata": {},
   "outputs": [
    {
     "name": "stdout",
     "output_type": "stream",
     "text": [
      "60\n"
     ]
    }
   ],
   "source": [
    "def second_max(list):\n",
    "    new_list = []\n",
    "    for i in list:\n",
    "        if i < max(list):\n",
    "            new_list.append(i)\n",
    "    return new_list\n",
    "\n",
    "given_list = second_max([5, 17, 28, 30, 32, 60, 90])\n",
    "print(max(given_list))"
   ]
  }
 ],
 "metadata": {
  "kernelspec": {
   "display_name": "Python 3",
   "language": "python",
   "name": "python3"
  },
  "language_info": {
   "codemirror_mode": {
    "name": "ipython",
    "version": 3
   },
   "file_extension": ".py",
   "mimetype": "text/x-python",
   "name": "python",
   "nbconvert_exporter": "python",
   "pygments_lexer": "ipython3",
   "version": "3.8.8"
  }
 },
 "nbformat": 4,
 "nbformat_minor": 5
}
