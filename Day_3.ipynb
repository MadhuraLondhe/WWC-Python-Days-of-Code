{
 "cells": [
  {
   "cell_type": "markdown",
   "id": "0351b492",
   "metadata": {},
   "source": [
    "# Women Who Code Python Days of Code"
   ]
  },
  {
   "cell_type": "markdown",
   "id": "b17de03c",
   "metadata": {},
   "source": [
    "### Day 3\n",
    "\n",
    "Write a function to count the number of vowels in a given string."
   ]
  },
  {
   "cell_type": "code",
   "execution_count": 11,
   "id": "072e6d95",
   "metadata": {},
   "outputs": [
    {
     "name": "stdout",
     "output_type": "stream",
     "text": [
      "2\n"
     ]
    }
   ],
   "source": [
    "def vowel_counter(word):\n",
    "    vowels = ('a', 'A','e','E','i', 'I','o','O','u', 'U')  # Created a tuple of vowels\n",
    "    vowels_count = 0                                       # Starting with 0 count\n",
    "    for w in word:                                         # If there is a vowel in the gievn word, append the count\n",
    "        if w in vowels:\n",
    "            vowels_count +=1\n",
    "    return vowels_count\n",
    "\n",
    "given_string = vowel_counter('Apple')                      # Calling the function with a string parameter\n",
    "print(given_string)"
   ]
  }
 ],
 "metadata": {
  "kernelspec": {
   "display_name": "Python 3",
   "language": "python",
   "name": "python3"
  },
  "language_info": {
   "codemirror_mode": {
    "name": "ipython",
    "version": 3
   },
   "file_extension": ".py",
   "mimetype": "text/x-python",
   "name": "python",
   "nbconvert_exporter": "python",
   "pygments_lexer": "ipython3",
   "version": "3.8.8"
  }
 },
 "nbformat": 4,
 "nbformat_minor": 5
}
