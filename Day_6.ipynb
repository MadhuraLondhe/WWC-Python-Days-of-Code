{
 "cells": [
  {
   "cell_type": "markdown",
   "id": "86972541",
   "metadata": {},
   "source": [
    "# Women Who COde Days of Code"
   ]
  },
  {
   "cell_type": "markdown",
   "id": "41e25311",
   "metadata": {},
   "source": [
    "### Day 6\n",
    "\n",
    "Write a program to count the occurrences of a specific character in a string."
   ]
  },
  {
   "cell_type": "code",
   "execution_count": 10,
   "id": "92c2fed5",
   "metadata": {},
   "outputs": [
    {
     "data": {
      "text/plain": [
       "3"
      ]
     },
     "execution_count": 10,
     "metadata": {},
     "output_type": "execute_result"
    }
   ],
   "source": [
    "# An easy way is to use a count method.\n",
    "Initial_word = 'Python is a great coding language'\n",
    "Initial_word.count('n')"
   ]
  },
  {
   "cell_type": "code",
   "execution_count": 9,
   "id": "75e83a3c",
   "metadata": {},
   "outputs": [
    {
     "name": "stdout",
     "output_type": "stream",
     "text": [
      "1\n"
     ]
    }
   ],
   "source": [
    "# Let's create a counter program now.\n",
    "def counter(word, character):\n",
    "    lower_word = word.lower()                    # Lowering the string and character to avoid errors\n",
    "    lower_char = character.lower()     \n",
    "    char_count = 0                               # Initiating with 0 count\n",
    "    for i in lower_word:\n",
    "        if i == lower_char:                      # If the given character is present in the given word, append the count\n",
    "            char_count +=1            \n",
    "    return char_count\n",
    "\n",
    "character_count = counter('Madhura Londhe','O')  # To check, let's try uppercase character   \n",
    "print(character_count)"
   ]
  }
 ],
 "metadata": {
  "kernelspec": {
   "display_name": "Python 3",
   "language": "python",
   "name": "python3"
  },
  "language_info": {
   "codemirror_mode": {
    "name": "ipython",
    "version": 3
   },
   "file_extension": ".py",
   "mimetype": "text/x-python",
   "name": "python",
   "nbconvert_exporter": "python",
   "pygments_lexer": "ipython3",
   "version": "3.8.8"
  }
 },
 "nbformat": 4,
 "nbformat_minor": 5
}
